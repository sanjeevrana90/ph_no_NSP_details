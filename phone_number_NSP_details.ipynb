{
 "cells": [
  {
   "cell_type": "code",
   "execution_count": 5,
   "id": "9adcd6eb",
   "metadata": {},
   "outputs": [
    {
     "name": "stdout",
     "output_type": "stream",
     "text": [
      "India\n",
      "('Asia/Calcutta',)\n",
      "Reliance Jio\n"
     ]
    }
   ],
   "source": [
    "# Import necessary modules from the 'phonenumbers' library\n",
    "import phonenumbers\n",
    "from phonenumbers import timezone\n",
    "from phonenumbers import geocoder\n",
    "from phonenumbers import carrier\n",
    "\n",
    "# Define the phone number to be analyzed\n",
    "number = '+918261445566'\n",
    "\n",
    "# Parse the phone number using the phonenumbers.parse() function\n",
    "ph_num = phonenumbers.parse(number)\n",
    "\n",
    "# Get the description of the country and area where the phone number is registered\n",
    "# 'en' parameter specifies the language for the description (English in this case)\n",
    "print(geocoder.description_for_number(ph_num, 'en'))\n",
    "\n",
    "# Get the time zones associated with the phone number's geographical location\n",
    "# This will give a list of time zones since a phone number can be associated with multiple time zones in some cases\n",
    "print(timezone.time_zones_for_number(ph_num))\n",
    "\n",
    "# Get the name of the carrier (telecom operator) of the phone number\n",
    "# 'en' parameter specifies the language for the carrier name (English in this case)\n",
    "print(carrier.name_for_number(ph_num, 'en'))\n"
   ]
  },
  {
   "cell_type": "code",
   "execution_count": null,
   "id": "95d1ae4d",
   "metadata": {},
   "outputs": [],
   "source": []
  }
 ],
 "metadata": {
  "kernelspec": {
   "display_name": "Python 3 (ipykernel)",
   "language": "python",
   "name": "python3"
  },
  "language_info": {
   "codemirror_mode": {
    "name": "ipython",
    "version": 3
   },
   "file_extension": ".py",
   "mimetype": "text/x-python",
   "name": "python",
   "nbconvert_exporter": "python",
   "pygments_lexer": "ipython3",
   "version": "3.11.2"
  }
 },
 "nbformat": 4,
 "nbformat_minor": 5
}
